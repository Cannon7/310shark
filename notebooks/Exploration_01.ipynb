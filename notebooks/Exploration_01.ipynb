{
  "cells": [
    {
      "cell_type": "markdown",
      "metadata": {
        "id": "view-in-github",
        "colab_type": "text"
      },
      "source": [
        "<a href=\"https://colab.research.google.com/github/Cannon7/310shark/blob/main/notebooks/Exploration_01.ipynb\" target=\"_parent\"><img src=\"https://colab.research.google.com/assets/colab-badge.svg\" alt=\"Open In Colab\"/></a>"
      ]
    },
    {
      "cell_type": "markdown",
      "metadata": {
        "id": "LB9TN5GKEyhw"
      },
      "source": [
        "# Data Exploration 01\n",
        "\n",
        "A consumer watchdog group wants to see if Netflix has more movies for adults or children.\n",
        "\n",
        "Using a dataset containing metadata for all of the movies Netflix had available on their platform in 2019, we'll use the MPAA movie rating system to determine if they are correct.\n",
        "\n",
        "## MPAA Movie Ratings:\n",
        "* G: All ages admitted.\n",
        "* PG: Some material may not be suitable for children.\n",
        "* PG-13: Some material may be inappropriate for children under 13.\n",
        "* R: Under 17 requires accompanying parent or adult guardian\n",
        "* NC-17: No One 17 and Under Admitted\n",
        "\n",
        "Most people would consider G and PG as ratings suitable for children. However, not everyone would agree that a PG-13 movie is necssarily a children's movie. It is up to you to decide how to handle this."
      ]
    },
    {
      "cell_type": "markdown",
      "metadata": {
        "id": "agqlq8RKFbry"
      },
      "source": [
        "## Part 1: Import Pandas\n",
        "\n",
        "The `pandas library` is a python library used for data analysis and manipulation. It will provide the core functionality for most of what you do in the data exploration and preprocessing stages of most machine learning projects.\n",
        "\n",
        "Please see [this Getting Started Guide](https://pandas.pydata.org/docs/getting_started/intro_tutorials/01_table_oriented.html) for information on the conventional way to import Pandas into your project, as well as other helpful tips for common Pandas tasks.\n"
      ]
    },
    {
      "cell_type": "code",
      "execution_count": 1,
      "metadata": {
        "id": "14b9y6LKEvEm",
        "vscode": {
          "languageId": "python"
        }
      },
      "outputs": [],
      "source": [
        "# Part 1: Enter the code below to import Pandas according to the\n",
        "# conventional method.\n",
        "import pandas as pd"
      ]
    },
    {
      "cell_type": "markdown",
      "metadata": {
        "id": "q-O80D5JH9yA"
      },
      "source": [
        "## Part 2: Load the data\n",
        "\n",
        "The dataset for this exploration is stored at the following url:\n",
        "\n",
        "[https://raw.githubusercontent.com/byui-cse/cse450-course/master/data/netflix_titles.csv](https://raw.githubusercontent.com/byui-cse/cse450-course/master/data/netflix_titles.csv)\n",
        "\n",
        "There are lots of ways to load data into your workspace. The easiest way in this case is to [ask Pandas to do it for you](https://pandas.pydata.org/docs/getting_started/intro_tutorials/02_read_write.html).\n",
        "\n",
        "### Initial Data Analysis\n",
        "Once you've loaded the data, it's a good idea to poke around a little bit to find out what you're dealing with.\n",
        "\n",
        "Some questions you might ask include:\n",
        "\n",
        "* What does the data look like?\n",
        "* What kind of data is in each column?\n",
        "* Do any of the columns have missing values?"
      ]
    },
    {
      "cell_type": "code",
      "execution_count": 3,
      "metadata": {
        "id": "AMKxXySGJVnC",
        "vscode": {
          "languageId": "python"
        }
      },
      "outputs": [],
      "source": [
        "# Part 2: Load the dataset into a Pandas dataframe.\n",
        "data_set = pd.read_csv(\"https://raw.githubusercontent.com/byui-cse/cse450-course/master/data/netflix_titles.csv\")"
      ]
    },
    {
      "cell_type": "code",
      "execution_count": 11,
      "metadata": {
        "id": "1TFtbTIVAYJ-",
        "vscode": {
          "languageId": "python"
        },
        "outputId": "1cd98340-d0cc-4de8-c6ba-6da683a35fe4",
        "colab": {
          "base_uri": "https://localhost:8080/"
        }
      },
      "outputs": [
        {
          "output_type": "stream",
          "name": "stdout",
          "text": [
            "    show_id     type                                    title  \\\n",
            "0  81145628    Movie  Norm of the North: King Sized Adventure   \n",
            "1  80117401    Movie               Jandino: Whatever it Takes   \n",
            "2  70234439  TV Show                       Transformers Prime   \n",
            "3  80058654  TV Show         Transformers: Robots in Disguise   \n",
            "4  80125979    Movie                             #realityhigh   \n",
            "5  80163890  TV Show                                  Apaches   \n",
            "6  70304989    Movie                                 Automata   \n",
            "7  80164077    Movie       Fabrizio Copano: Solo pienso en mi   \n",
            "8  80117902  TV Show                             Fire Chasers   \n",
            "9  70304990    Movie                              Good People   \n",
            "\n",
            "                          director  \\\n",
            "0         Richard Finn, Tim Maltby   \n",
            "1                              NaN   \n",
            "2                              NaN   \n",
            "3                              NaN   \n",
            "4                 Fernando Lebrija   \n",
            "5                              NaN   \n",
            "6                      Gabe Ibáñez   \n",
            "7  Rodrigo Toro, Francisco Schultz   \n",
            "8                              NaN   \n",
            "9                Henrik Ruben Genz   \n",
            "\n",
            "                                                cast  \\\n",
            "0  Alan Marriott, Andrew Toth, Brian Dobson, Cole...   \n",
            "1                                   Jandino Asporaat   \n",
            "2  Peter Cullen, Sumalee Montano, Frank Welker, J...   \n",
            "3  Will Friedle, Darren Criss, Constance Zimmer, ...   \n",
            "4  Nesta Cooper, Kate Walsh, John Michael Higgins...   \n",
            "5  Alberto Ammann, Eloy Azorín, Verónica Echegui,...   \n",
            "6  Antonio Banderas, Dylan McDermott, Melanie Gri...   \n",
            "7                                    Fabrizio Copano   \n",
            "8                                                NaN   \n",
            "9  James Franco, Kate Hudson, Tom Wilkinson, Omar...   \n",
            "\n",
            "                                          country         date_added  \\\n",
            "0        United States, India, South Korea, China  September 9, 2019   \n",
            "1                                  United Kingdom  September 9, 2016   \n",
            "2                                   United States  September 8, 2018   \n",
            "3                                   United States  September 8, 2018   \n",
            "4                                   United States  September 8, 2017   \n",
            "5                                           Spain  September 8, 2017   \n",
            "6          Bulgaria, United States, Spain, Canada  September 8, 2017   \n",
            "7                                           Chile  September 8, 2017   \n",
            "8                                   United States  September 8, 2017   \n",
            "9  United States, United Kingdom, Denmark, Sweden  September 8, 2017   \n",
            "\n",
            "   release_year    rating  duration  \\\n",
            "0          2019     TV-PG    90 min   \n",
            "1          2016     TV-MA    94 min   \n",
            "2          2013  TV-Y7-FV  1 Season   \n",
            "3          2016     TV-Y7  1 Season   \n",
            "4          2017     TV-14    99 min   \n",
            "5          2016     TV-MA  1 Season   \n",
            "6          2014         R   110 min   \n",
            "7          2017     TV-MA    60 min   \n",
            "8          2017     TV-MA  1 Season   \n",
            "9          2014         R    90 min   \n",
            "\n",
            "                                           listed_in  \\\n",
            "0                 Children & Family Movies, Comedies   \n",
            "1                                    Stand-Up Comedy   \n",
            "2                                           Kids' TV   \n",
            "3                                           Kids' TV   \n",
            "4                                           Comedies   \n",
            "5  Crime TV Shows, International TV Shows, Spanis...   \n",
            "6  International Movies, Sci-Fi & Fantasy, Thrillers   \n",
            "7                                    Stand-Up Comedy   \n",
            "8                    Docuseries, Science & Nature TV   \n",
            "9                      Action & Adventure, Thrillers   \n",
            "\n",
            "                                         description  \n",
            "0  Before planning an awesome wedding for his gra...  \n",
            "1  Jandino Asporaat riffs on the challenges of ra...  \n",
            "2  With the help of three human allies, the Autob...  \n",
            "3  When a prison ship crash unleashes hundreds of...  \n",
            "4  When nerdy high schooler Dani finally attracts...  \n",
            "5  A young journalist is forced into a life of cr...  \n",
            "6  In a dystopian future, an insurance adjuster f...  \n",
            "7  Fabrizio Copano takes audience participation t...  \n",
            "8  As California's 2016 fire season rages, brave ...  \n",
            "9  A struggling couple can't believe their luck w...  \n"
          ]
        }
      ],
      "source": [
        "# Then, explore the data by seeing what the first few rows look like\n",
        "print(data_set.head(10))"
      ]
    },
    {
      "cell_type": "code",
      "execution_count": 18,
      "metadata": {
        "id": "GcL5zb6kAYc7",
        "vscode": {
          "languageId": "python"
        },
        "outputId": "65a4ce79-f0c6-4c2d-b802-a0ecc7881da1",
        "colab": {
          "base_uri": "https://localhost:8080/"
        }
      },
      "outputs": [
        {
          "output_type": "stream",
          "name": "stdout",
          "text": [
            "show_id          int64\n",
            "type            object\n",
            "title           object\n",
            "director        object\n",
            "cast            object\n",
            "country         object\n",
            "date_added      object\n",
            "release_year     int64\n",
            "rating          object\n",
            "duration        object\n",
            "listed_in       object\n",
            "description     object\n",
            "dtype: object\n",
            "      show_id   type  title  director   cast  country  date_added  \\\n",
            "0       False  False  False     False  False    False       False   \n",
            "1       False  False  False      True  False    False       False   \n",
            "2       False  False  False      True  False    False       False   \n",
            "3       False  False  False      True  False    False       False   \n",
            "4       False  False  False     False  False    False       False   \n",
            "...       ...    ...    ...       ...    ...      ...         ...   \n",
            "6229    False  False  False      True  False    False        True   \n",
            "6230    False  False  False      True  False    False        True   \n",
            "6231    False  False  False      True   True     True        True   \n",
            "6232    False  False  False      True  False    False        True   \n",
            "6233    False  False  False      True  False    False        True   \n",
            "\n",
            "      release_year  rating  duration  listed_in  description  \n",
            "0            False   False     False      False        False  \n",
            "1            False   False     False      False        False  \n",
            "2            False   False     False      False        False  \n",
            "3            False   False     False      False        False  \n",
            "4            False   False     False      False        False  \n",
            "...            ...     ...       ...        ...          ...  \n",
            "6229         False   False     False      False        False  \n",
            "6230         False   False     False      False        False  \n",
            "6231         False    True     False      False        False  \n",
            "6232         False   False     False      False        False  \n",
            "6233         False   False     False      False        False  \n",
            "\n",
            "[6234 rows x 12 columns]\n"
          ]
        }
      ],
      "source": [
        "# Next, display a technical summary of the data to determine the data types of each column, and which columns have missing data.\n",
        "print(data_set.dtypes)\n",
        "nanlist = data_set.isna()\n",
        "print(nanlist)\n"
      ]
    },
    {
      "cell_type": "markdown",
      "metadata": {
        "id": "CqdAa4EfJ9T0"
      },
      "source": [
        "## Part 3: Filter the Data\n",
        "\n",
        "Since we're just interested in movies, we'll need to [filter out anything](https://pandas.pydata.org/docs/getting_started/intro_tutorials/03_subset_data.html) that isn't a movie for our analysis. The `type` feature contains this information.\n",
        "\n",
        "Once we have the subset, we should see how many rows it contains. There are a [variety of ways to get the length of a data frame](https://stackoverflow.com/a/38025280/28106)."
      ]
    },
    {
      "cell_type": "code",
      "execution_count": 25,
      "metadata": {
        "id": "i8wdC-qpPjqF",
        "vscode": {
          "languageId": "python"
        },
        "outputId": "1c97b665-301b-414c-e093-9dcf6b313146",
        "colab": {
          "base_uri": "https://localhost:8080/"
        }
      },
      "outputs": [
        {
          "output_type": "stream",
          "name": "stdout",
          "text": [
            "       show_id   type                                    title  \\\n",
            "0     81145628  Movie  Norm of the North: King Sized Adventure   \n",
            "1     80117401  Movie               Jandino: Whatever it Takes   \n",
            "4     80125979  Movie                             #realityhigh   \n",
            "6     70304989  Movie                                 Automata   \n",
            "7     80164077  Movie       Fabrizio Copano: Solo pienso en mi   \n",
            "...        ...    ...                                      ...   \n",
            "5577  80085438  Movie                          Frank and Cindy   \n",
            "5578  80085439  Movie                          Frank and Cindy   \n",
            "5579  80011846  Movie                                  Iverson   \n",
            "5580  80064521  Movie      Jeremy Scott: The People's Designer   \n",
            "6231  80116008  Movie   Little Baby Bum: Nursery Rhyme Friends   \n",
            "\n",
            "                             director  \\\n",
            "0            Richard Finn, Tim Maltby   \n",
            "1                                 NaN   \n",
            "4                    Fernando Lebrija   \n",
            "6                         Gabe Ibáñez   \n",
            "7     Rodrigo Toro, Francisco Schultz   \n",
            "...                               ...   \n",
            "5577                 G.J. Echternkamp   \n",
            "5578                 G.J. Echternkamp   \n",
            "5579                   Zatella Beatty   \n",
            "5580                       Vlad Yudin   \n",
            "6231                              NaN   \n",
            "\n",
            "                                                   cast  \\\n",
            "0     Alan Marriott, Andrew Toth, Brian Dobson, Cole...   \n",
            "1                                      Jandino Asporaat   \n",
            "4     Nesta Cooper, Kate Walsh, John Michael Higgins...   \n",
            "6     Antonio Banderas, Dylan McDermott, Melanie Gri...   \n",
            "7                                       Fabrizio Copano   \n",
            "...                                                 ...   \n",
            "5577                                                NaN   \n",
            "5578  Rene Russo, Oliver Platt, Johnny Simmons, Jane...   \n",
            "5579                                      Allen Iverson   \n",
            "5580                                       Jeremy Scott   \n",
            "6231                                                NaN   \n",
            "\n",
            "                                       country         date_added  \\\n",
            "0     United States, India, South Korea, China  September 9, 2019   \n",
            "1                               United Kingdom  September 9, 2016   \n",
            "4                                United States  September 8, 2017   \n",
            "6       Bulgaria, United States, Spain, Canada  September 8, 2017   \n",
            "7                                        Chile  September 8, 2017   \n",
            "...                                        ...                ...   \n",
            "5577                             United States      April 1, 2016   \n",
            "5578                             United States      April 1, 2016   \n",
            "5579                             United States      April 1, 2016   \n",
            "5580                             United States      April 1, 2016   \n",
            "6231                                       NaN                NaN   \n",
            "\n",
            "      release_year rating duration  \\\n",
            "0             2019  TV-PG   90 min   \n",
            "1             2016  TV-MA   94 min   \n",
            "4             2017  TV-14   99 min   \n",
            "6             2014      R  110 min   \n",
            "7             2017  TV-MA   60 min   \n",
            "...            ...    ...      ...   \n",
            "5577          2007  TV-MA   70 min   \n",
            "5578          2015      R  102 min   \n",
            "5579          2014     NR   88 min   \n",
            "5580          2015  PG-13  109 min   \n",
            "6231          2016    NaN   60 min   \n",
            "\n",
            "                                              listed_in  \\\n",
            "0                    Children & Family Movies, Comedies   \n",
            "1                                       Stand-Up Comedy   \n",
            "4                                              Comedies   \n",
            "6     International Movies, Sci-Fi & Fantasy, Thrillers   \n",
            "7                                       Stand-Up Comedy   \n",
            "...                                                 ...   \n",
            "5577                                      Documentaries   \n",
            "5578               Comedies, Dramas, Independent Movies   \n",
            "5579                       Documentaries, Sports Movies   \n",
            "5580                                      Documentaries   \n",
            "6231                                             Movies   \n",
            "\n",
            "                                            description  \n",
            "0     Before planning an awesome wedding for his gra...  \n",
            "1     Jandino Asporaat riffs on the challenges of ra...  \n",
            "4     When nerdy high schooler Dani finally attracts...  \n",
            "6     In a dystopian future, an insurance adjuster f...  \n",
            "7     Fabrizio Copano takes audience participation t...  \n",
            "...                                                 ...  \n",
            "5577  Frank was a rising pop star when he married Ci...  \n",
            "5578  A student filmmaker vengefully turns his camer...  \n",
            "5579  This unfiltered documentary follows the rocky ...  \n",
            "5580  The journey of fashion designer Jeremy Scott f...  \n",
            "6231  Nursery rhymes and original music for children...  \n",
            "\n",
            "[4265 rows x 12 columns]\n",
            "4265\n"
          ]
        }
      ],
      "source": [
        "# Use pandas's filtering abilitites to select the subset of data\n",
        "# that represents movies, then calculate how many rows are in the filtered data.\n",
        "data_set = data_set[data_set[\"type\"] == \"Movie\"]\n",
        "print(data_set)\n",
        "print(len(data_set))"
      ]
    },
    {
      "cell_type": "markdown",
      "metadata": {
        "id": "sxWEVnHyVV8c"
      },
      "source": [
        "### MPAA Ratings\n",
        "Now that we have only movies, let's get a [quick count of the values being used](https://pandas.pydata.org/docs/getting_started/intro_tutorials/06_calculate_statistics.html)  in the `rating` feature."
      ]
    },
    {
      "cell_type": "code",
      "execution_count": 27,
      "metadata": {
        "id": "bH4pNyeVVx0R",
        "vscode": {
          "languageId": "python"
        },
        "outputId": "c07843d5-2391-438a-f716-d103d1771daf",
        "colab": {
          "base_uri": "https://localhost:8080/"
        }
      },
      "outputs": [
        {
          "output_type": "stream",
          "name": "stdout",
          "text": [
            "rating\n",
            "TV-MA       1348\n",
            "TV-14       1038\n",
            "R            506\n",
            "TV-PG        432\n",
            "PG-13        286\n",
            "NR           202\n",
            "PG           183\n",
            "TV-G          80\n",
            "TV-Y7         69\n",
            "TV-Y          41\n",
            "G             36\n",
            "TV-Y7-FV      27\n",
            "UR             7\n",
            "NC-17          2\n",
            "Name: count, dtype: int64\n"
          ]
        }
      ],
      "source": [
        "# Determine the number of records for each value of the \"rating\" feature.\n",
        "# Remember to count the values in your subset only, not in the original dataframe.\n",
        "print(data_set['rating'].value_counts())\n"
      ]
    },
    {
      "cell_type": "code",
      "source": [],
      "metadata": {
        "id": "ZffnDxFk8U3o"
      },
      "execution_count": null,
      "outputs": []
    },
    {
      "cell_type": "markdown",
      "metadata": {
        "id": "81bBg3tbV_5s"
      },
      "source": [
        "### More Filtering\n",
        "\n",
        "There are apparently some \"made for TV\" movies in the list that don't fit the\n",
        "MPAA rating scheme.\n",
        "\n",
        "Let's [filter some more](https://pandas.pydata.org/docs/getting_started/intro_tutorials/03_subset_data.html) to just see movies rated with the standard MPAA ratings of G, PG, PG-13, R, and NC-17."
      ]
    },
    {
      "cell_type": "code",
      "execution_count": 30,
      "metadata": {
        "id": "kQmlZqO5Wb_N",
        "vscode": {
          "languageId": "python"
        },
        "outputId": "1891741d-9f41-49bd-9143-d6521d64a0d0",
        "colab": {
          "base_uri": "https://localhost:8080/",
          "height": 529
        }
      },
      "outputs": [
        {
          "output_type": "error",
          "ename": "TypeError",
          "evalue": "Cannot perform 'ror_' with a dtyped [object] array and scalar of type [bool]",
          "traceback": [
            "\u001b[0;31m---------------------------------------------------------------------------\u001b[0m",
            "\u001b[0;31mTypeError\u001b[0m                                 Traceback (most recent call last)",
            "\u001b[0;32m/usr/local/lib/python3.10/dist-packages/pandas/core/ops/array_ops.py\u001b[0m in \u001b[0;36mna_logical_op\u001b[0;34m(x, y, op)\u001b[0m\n\u001b[1;32m    361\u001b[0m         \u001b[0;31m#  (xint or xbool) and (yint or bool)\u001b[0m\u001b[0;34m\u001b[0m\u001b[0;34m\u001b[0m\u001b[0m\n\u001b[0;32m--> 362\u001b[0;31m         \u001b[0mresult\u001b[0m \u001b[0;34m=\u001b[0m \u001b[0mop\u001b[0m\u001b[0;34m(\u001b[0m\u001b[0mx\u001b[0m\u001b[0;34m,\u001b[0m \u001b[0my\u001b[0m\u001b[0;34m)\u001b[0m\u001b[0;34m\u001b[0m\u001b[0;34m\u001b[0m\u001b[0m\n\u001b[0m\u001b[1;32m    363\u001b[0m     \u001b[0;32mexcept\u001b[0m \u001b[0mTypeError\u001b[0m\u001b[0;34m:\u001b[0m\u001b[0;34m\u001b[0m\u001b[0;34m\u001b[0m\u001b[0m\n",
            "\u001b[0;32m/usr/local/lib/python3.10/dist-packages/pandas/core/roperator.py\u001b[0m in \u001b[0;36mror_\u001b[0;34m(left, right)\u001b[0m\n\u001b[1;32m     57\u001b[0m \u001b[0;32mdef\u001b[0m \u001b[0mror_\u001b[0m\u001b[0;34m(\u001b[0m\u001b[0mleft\u001b[0m\u001b[0;34m,\u001b[0m \u001b[0mright\u001b[0m\u001b[0;34m)\u001b[0m\u001b[0;34m:\u001b[0m\u001b[0;34m\u001b[0m\u001b[0;34m\u001b[0m\u001b[0m\n\u001b[0;32m---> 58\u001b[0;31m     \u001b[0;32mreturn\u001b[0m \u001b[0moperator\u001b[0m\u001b[0;34m.\u001b[0m\u001b[0mor_\u001b[0m\u001b[0;34m(\u001b[0m\u001b[0mright\u001b[0m\u001b[0;34m,\u001b[0m \u001b[0mleft\u001b[0m\u001b[0;34m)\u001b[0m\u001b[0;34m\u001b[0m\u001b[0;34m\u001b[0m\u001b[0m\n\u001b[0m\u001b[1;32m     59\u001b[0m \u001b[0;34m\u001b[0m\u001b[0m\n",
            "\u001b[0;31mTypeError\u001b[0m: unsupported operand type(s) for |: 'str' and 'str'",
            "\nDuring handling of the above exception, another exception occurred:\n",
            "\u001b[0;31mTypeError\u001b[0m                                 Traceback (most recent call last)",
            "\u001b[0;32m/usr/local/lib/python3.10/dist-packages/pandas/core/ops/array_ops.py\u001b[0m in \u001b[0;36mna_logical_op\u001b[0;34m(x, y, op)\u001b[0m\n\u001b[1;32m    375\u001b[0m             \u001b[0;32mtry\u001b[0m\u001b[0;34m:\u001b[0m\u001b[0;34m\u001b[0m\u001b[0;34m\u001b[0m\u001b[0m\n\u001b[0;32m--> 376\u001b[0;31m                 \u001b[0mresult\u001b[0m \u001b[0;34m=\u001b[0m \u001b[0mlibops\u001b[0m\u001b[0;34m.\u001b[0m\u001b[0mscalar_binop\u001b[0m\u001b[0;34m(\u001b[0m\u001b[0mx\u001b[0m\u001b[0;34m,\u001b[0m \u001b[0my\u001b[0m\u001b[0;34m,\u001b[0m \u001b[0mop\u001b[0m\u001b[0;34m)\u001b[0m\u001b[0;34m\u001b[0m\u001b[0;34m\u001b[0m\u001b[0m\n\u001b[0m\u001b[1;32m    377\u001b[0m             except (\n",
            "\u001b[0;32mops.pyx\u001b[0m in \u001b[0;36mpandas._libs.ops.scalar_binop\u001b[0;34m()\u001b[0m\n",
            "\u001b[0;32m/usr/local/lib/python3.10/dist-packages/pandas/core/roperator.py\u001b[0m in \u001b[0;36mror_\u001b[0;34m(left, right)\u001b[0m\n\u001b[1;32m     57\u001b[0m \u001b[0;32mdef\u001b[0m \u001b[0mror_\u001b[0m\u001b[0;34m(\u001b[0m\u001b[0mleft\u001b[0m\u001b[0;34m,\u001b[0m \u001b[0mright\u001b[0m\u001b[0;34m)\u001b[0m\u001b[0;34m:\u001b[0m\u001b[0;34m\u001b[0m\u001b[0;34m\u001b[0m\u001b[0m\n\u001b[0;32m---> 58\u001b[0;31m     \u001b[0;32mreturn\u001b[0m \u001b[0moperator\u001b[0m\u001b[0;34m.\u001b[0m\u001b[0mor_\u001b[0m\u001b[0;34m(\u001b[0m\u001b[0mright\u001b[0m\u001b[0;34m,\u001b[0m \u001b[0mleft\u001b[0m\u001b[0;34m)\u001b[0m\u001b[0;34m\u001b[0m\u001b[0;34m\u001b[0m\u001b[0m\n\u001b[0m\u001b[1;32m     59\u001b[0m \u001b[0;34m\u001b[0m\u001b[0m\n",
            "\u001b[0;31mTypeError\u001b[0m: unsupported operand type(s) for |: 'bool' and 'str'",
            "\nThe above exception was the direct cause of the following exception:\n",
            "\u001b[0;31mTypeError\u001b[0m                                 Traceback (most recent call last)",
            "\u001b[0;32m<ipython-input-30-127ae08e5b1a>\u001b[0m in \u001b[0;36m<cell line: 4>\u001b[0;34m()\u001b[0m\n\u001b[1;32m      2\u001b[0m \u001b[0;31m# a standard MPAA rating. Calculate how many rows are in this new set, and\u001b[0m\u001b[0;34m\u001b[0m\u001b[0;34m\u001b[0m\u001b[0m\n\u001b[1;32m      3\u001b[0m \u001b[0;31m# then see which ratings appear most often.\u001b[0m\u001b[0;34m\u001b[0m\u001b[0;34m\u001b[0m\u001b[0m\n\u001b[0;32m----> 4\u001b[0;31m \u001b[0mdata_set\u001b[0m \u001b[0;34m=\u001b[0m \u001b[0mdata_set\u001b[0m\u001b[0;34m[\u001b[0m\u001b[0mdata_set\u001b[0m\u001b[0;34m[\u001b[0m\u001b[0;34m\"rating\"\u001b[0m\u001b[0;34m]\u001b[0m \u001b[0;34m==\u001b[0m \u001b[0;34m\"G\"\u001b[0m \u001b[0;34m|\u001b[0m \u001b[0mdata_set\u001b[0m\u001b[0;34m[\u001b[0m\u001b[0;34m\"rating\"\u001b[0m\u001b[0;34m]\u001b[0m \u001b[0;34m==\u001b[0m \u001b[0;34m\"PG\"\u001b[0m \u001b[0;34m|\u001b[0m \u001b[0mdata_set\u001b[0m\u001b[0;34m[\u001b[0m\u001b[0;34m\"rating\"\u001b[0m\u001b[0;34m]\u001b[0m \u001b[0;34m==\u001b[0m \u001b[0;34m\"PG-13\"\u001b[0m \u001b[0;34m|\u001b[0m \u001b[0mdata_set\u001b[0m\u001b[0;34m[\u001b[0m\u001b[0;34m\"rating\"\u001b[0m\u001b[0;34m]\u001b[0m \u001b[0;34m==\u001b[0m \u001b[0;34m\"R\"\u001b[0m \u001b[0;34m|\u001b[0m \u001b[0mdata_set\u001b[0m\u001b[0;34m[\u001b[0m\u001b[0;34m\"rating\"\u001b[0m\u001b[0;34m]\u001b[0m \u001b[0;34m==\u001b[0m \u001b[0;34m\"NC-17\"\u001b[0m\u001b[0;34m]\u001b[0m\u001b[0;34m\u001b[0m\u001b[0;34m\u001b[0m\u001b[0m\n\u001b[0m\u001b[1;32m      5\u001b[0m \u001b[0mprint\u001b[0m\u001b[0;34m(\u001b[0m\u001b[0mdata_set\u001b[0m\u001b[0;34m)\u001b[0m\u001b[0;34m\u001b[0m\u001b[0;34m\u001b[0m\u001b[0m\n",
            "\u001b[0;32m/usr/local/lib/python3.10/dist-packages/pandas/core/ops/common.py\u001b[0m in \u001b[0;36mnew_method\u001b[0;34m(self, other)\u001b[0m\n\u001b[1;32m     74\u001b[0m         \u001b[0mother\u001b[0m \u001b[0;34m=\u001b[0m \u001b[0mitem_from_zerodim\u001b[0m\u001b[0;34m(\u001b[0m\u001b[0mother\u001b[0m\u001b[0;34m)\u001b[0m\u001b[0;34m\u001b[0m\u001b[0;34m\u001b[0m\u001b[0m\n\u001b[1;32m     75\u001b[0m \u001b[0;34m\u001b[0m\u001b[0m\n\u001b[0;32m---> 76\u001b[0;31m         \u001b[0;32mreturn\u001b[0m \u001b[0mmethod\u001b[0m\u001b[0;34m(\u001b[0m\u001b[0mself\u001b[0m\u001b[0;34m,\u001b[0m \u001b[0mother\u001b[0m\u001b[0;34m)\u001b[0m\u001b[0;34m\u001b[0m\u001b[0;34m\u001b[0m\u001b[0m\n\u001b[0m\u001b[1;32m     77\u001b[0m \u001b[0;34m\u001b[0m\u001b[0m\n\u001b[1;32m     78\u001b[0m     \u001b[0;32mreturn\u001b[0m \u001b[0mnew_method\u001b[0m\u001b[0;34m\u001b[0m\u001b[0;34m\u001b[0m\u001b[0m\n",
            "\u001b[0;32m/usr/local/lib/python3.10/dist-packages/pandas/core/arraylike.py\u001b[0m in \u001b[0;36m__ror__\u001b[0;34m(self, other)\u001b[0m\n\u001b[1;32m     80\u001b[0m     \u001b[0;34m@\u001b[0m\u001b[0munpack_zerodim_and_defer\u001b[0m\u001b[0;34m(\u001b[0m\u001b[0;34m\"__ror__\"\u001b[0m\u001b[0;34m)\u001b[0m\u001b[0;34m\u001b[0m\u001b[0;34m\u001b[0m\u001b[0m\n\u001b[1;32m     81\u001b[0m     \u001b[0;32mdef\u001b[0m \u001b[0m__ror__\u001b[0m\u001b[0;34m(\u001b[0m\u001b[0mself\u001b[0m\u001b[0;34m,\u001b[0m \u001b[0mother\u001b[0m\u001b[0;34m)\u001b[0m\u001b[0;34m:\u001b[0m\u001b[0;34m\u001b[0m\u001b[0;34m\u001b[0m\u001b[0m\n\u001b[0;32m---> 82\u001b[0;31m         \u001b[0;32mreturn\u001b[0m \u001b[0mself\u001b[0m\u001b[0;34m.\u001b[0m\u001b[0m_logical_method\u001b[0m\u001b[0;34m(\u001b[0m\u001b[0mother\u001b[0m\u001b[0;34m,\u001b[0m \u001b[0mroperator\u001b[0m\u001b[0;34m.\u001b[0m\u001b[0mror_\u001b[0m\u001b[0;34m)\u001b[0m\u001b[0;34m\u001b[0m\u001b[0;34m\u001b[0m\u001b[0m\n\u001b[0m\u001b[1;32m     83\u001b[0m \u001b[0;34m\u001b[0m\u001b[0m\n\u001b[1;32m     84\u001b[0m     \u001b[0;34m@\u001b[0m\u001b[0munpack_zerodim_and_defer\u001b[0m\u001b[0;34m(\u001b[0m\u001b[0;34m\"__xor__\"\u001b[0m\u001b[0;34m)\u001b[0m\u001b[0;34m\u001b[0m\u001b[0;34m\u001b[0m\u001b[0m\n",
            "\u001b[0;32m/usr/local/lib/python3.10/dist-packages/pandas/core/series.py\u001b[0m in \u001b[0;36m_logical_method\u001b[0;34m(self, other, op)\u001b[0m\n\u001b[1;32m   6128\u001b[0m         \u001b[0mrvalues\u001b[0m \u001b[0;34m=\u001b[0m \u001b[0mextract_array\u001b[0m\u001b[0;34m(\u001b[0m\u001b[0mother\u001b[0m\u001b[0;34m,\u001b[0m \u001b[0mextract_numpy\u001b[0m\u001b[0;34m=\u001b[0m\u001b[0;32mTrue\u001b[0m\u001b[0;34m,\u001b[0m \u001b[0mextract_range\u001b[0m\u001b[0;34m=\u001b[0m\u001b[0;32mTrue\u001b[0m\u001b[0;34m)\u001b[0m\u001b[0;34m\u001b[0m\u001b[0;34m\u001b[0m\u001b[0m\n\u001b[1;32m   6129\u001b[0m \u001b[0;34m\u001b[0m\u001b[0m\n\u001b[0;32m-> 6130\u001b[0;31m         \u001b[0mres_values\u001b[0m \u001b[0;34m=\u001b[0m \u001b[0mops\u001b[0m\u001b[0;34m.\u001b[0m\u001b[0mlogical_op\u001b[0m\u001b[0;34m(\u001b[0m\u001b[0mlvalues\u001b[0m\u001b[0;34m,\u001b[0m \u001b[0mrvalues\u001b[0m\u001b[0;34m,\u001b[0m \u001b[0mop\u001b[0m\u001b[0;34m)\u001b[0m\u001b[0;34m\u001b[0m\u001b[0;34m\u001b[0m\u001b[0m\n\u001b[0m\u001b[1;32m   6131\u001b[0m         \u001b[0;32mreturn\u001b[0m \u001b[0mself\u001b[0m\u001b[0;34m.\u001b[0m\u001b[0m_construct_result\u001b[0m\u001b[0;34m(\u001b[0m\u001b[0mres_values\u001b[0m\u001b[0;34m,\u001b[0m \u001b[0mname\u001b[0m\u001b[0;34m=\u001b[0m\u001b[0mres_name\u001b[0m\u001b[0;34m)\u001b[0m\u001b[0;34m\u001b[0m\u001b[0;34m\u001b[0m\u001b[0m\n\u001b[1;32m   6132\u001b[0m \u001b[0;34m\u001b[0m\u001b[0m\n",
            "\u001b[0;32m/usr/local/lib/python3.10/dist-packages/pandas/core/ops/array_ops.py\u001b[0m in \u001b[0;36mlogical_op\u001b[0;34m(left, right, op)\u001b[0m\n\u001b[1;32m    452\u001b[0m             \u001b[0mis_other_int_dtype\u001b[0m \u001b[0;34m=\u001b[0m \u001b[0mlib\u001b[0m\u001b[0;34m.\u001b[0m\u001b[0mis_integer\u001b[0m\u001b[0;34m(\u001b[0m\u001b[0mrvalues\u001b[0m\u001b[0;34m)\u001b[0m\u001b[0;34m\u001b[0m\u001b[0;34m\u001b[0m\u001b[0m\n\u001b[1;32m    453\u001b[0m \u001b[0;34m\u001b[0m\u001b[0m\n\u001b[0;32m--> 454\u001b[0;31m         \u001b[0mres_values\u001b[0m \u001b[0;34m=\u001b[0m \u001b[0mna_logical_op\u001b[0m\u001b[0;34m(\u001b[0m\u001b[0mlvalues\u001b[0m\u001b[0;34m,\u001b[0m \u001b[0mrvalues\u001b[0m\u001b[0;34m,\u001b[0m \u001b[0mop\u001b[0m\u001b[0;34m)\u001b[0m\u001b[0;34m\u001b[0m\u001b[0;34m\u001b[0m\u001b[0m\n\u001b[0m\u001b[1;32m    455\u001b[0m \u001b[0;34m\u001b[0m\u001b[0m\n\u001b[1;32m    456\u001b[0m         \u001b[0;31m# For int vs int `^`, `|`, `&` are bitwise operators and return\u001b[0m\u001b[0;34m\u001b[0m\u001b[0;34m\u001b[0m\u001b[0m\n",
            "\u001b[0;32m/usr/local/lib/python3.10/dist-packages/pandas/core/ops/array_ops.py\u001b[0m in \u001b[0;36mna_logical_op\u001b[0;34m(x, y, op)\u001b[0m\n\u001b[1;32m    383\u001b[0m             ) as err:\n\u001b[1;32m    384\u001b[0m                 \u001b[0mtyp\u001b[0m \u001b[0;34m=\u001b[0m \u001b[0mtype\u001b[0m\u001b[0;34m(\u001b[0m\u001b[0my\u001b[0m\u001b[0;34m)\u001b[0m\u001b[0;34m.\u001b[0m\u001b[0m__name__\u001b[0m\u001b[0;34m\u001b[0m\u001b[0;34m\u001b[0m\u001b[0m\n\u001b[0;32m--> 385\u001b[0;31m                 raise TypeError(\n\u001b[0m\u001b[1;32m    386\u001b[0m                     \u001b[0;34mf\"Cannot perform '{op.__name__}' with a dtyped [{x.dtype}] array \"\u001b[0m\u001b[0;34m\u001b[0m\u001b[0;34m\u001b[0m\u001b[0m\n\u001b[1;32m    387\u001b[0m                     \u001b[0;34mf\"and scalar of type [{typ}]\"\u001b[0m\u001b[0;34m\u001b[0m\u001b[0;34m\u001b[0m\u001b[0m\n",
            "\u001b[0;31mTypeError\u001b[0m: Cannot perform 'ror_' with a dtyped [object] array and scalar of type [bool]"
          ]
        }
      ],
      "source": [
        "# Filter the list of movies to select a new subset containing only movies with\n",
        "# a standard MPAA rating. Calculate how many rows are in this new set, and\n",
        "# then see which ratings appear most often.\n",
        "data_set = data_set[data_set[\"rating\"] == \"G\" | data_set[\"rating\"] == \"PG\" | data_set[\"rating\"] == \"PG-13\" | data_set[\"rating\"] == \"R\" | data_set[\"rating\"] == \"NC-17\"]\n",
        "print(data_set)"
      ]
    },
    {
      "cell_type": "markdown",
      "metadata": {
        "id": "cl30h29pWp26"
      },
      "source": [
        "## Part 4: Visualization\n",
        "Now that we have explored and preprocessed our data, let's create a visualization to summarize our findings.\n",
        "\n",
        "### Exploration vs Presentation\n",
        "Broadly speaking, there are two types of visualizations:\n",
        "* Barebones visualizations you might use to get a quick, visual understanding of the data while you're trying to decide how it all fits together.\n",
        "* Presentation-quality visualizations that you would include in a report or presentation for management or other stakeholders.\n",
        "\n",
        "### Visualization Tools\n",
        "There are many different visualization tools availble. In the sections below,\n",
        "we'll explore the three most common. Each of these libraries has strengths and weaknesses.\n",
        "\n",
        "It is probably a good idea for you to become familiar with each one, and then become proficient at whichever one you like the best."
      ]
    },
    {
      "cell_type": "markdown",
      "metadata": {
        "id": "ebhKz6g9DmRE"
      },
      "source": [
        "### Altair\n",
        "The Altair visualization library provides a large variety of very easy to use statistical charting tools.\n",
        "\n",
        "Altair uses a declarative language to build up charts piece by piece.\n",
        "\n",
        "Assume we have a pandas dataframe called `employees`, with three columns: `name`, `job`, `salary`.\n",
        "\n",
        "    # Make a box plot style categorical plot showing the distribution of salaries for each job:\n",
        "    alt.Chart(employees).mark_boxplot().encode(\n",
        "        x='job',\n",
        "        y='salary'\n",
        "    )\n",
        "\n",
        "    # Make a box plot style categorical plot, and customize the results\n",
        "    alt.Chart(employees).mark_boxplot().encode(\n",
        "        alt.X('job', title='Job title'),\n",
        "        alt.Y('salary', title='Annual salary in thousands of $USD')\n",
        "    ).properties(\n",
        "      title='Salaries by Job Title'\n",
        "    )"
      ]
    },
    {
      "cell_type": "markdown",
      "metadata": {
        "id": "kOVsR0WCIm-L"
      },
      "source": [
        "Like with Pandas, there is a [conventional way to import Altair](https://altair-viz.github.io/getting_started/starting.html#the-chart-object) into your projects."
      ]
    },
    {
      "cell_type": "code",
      "execution_count": null,
      "metadata": {
        "id": "mYmVEExwD9O9",
        "vscode": {
          "languageId": "python"
        }
      },
      "outputs": [],
      "source": [
        "# Import the Altair library the conventional way.\n"
      ]
    },
    {
      "cell_type": "markdown",
      "metadata": {
        "id": "IAw61g-CD-Je"
      },
      "source": [
        "Let's create a barchart showing the count of each movie rating by using Altair's aggregation capabilities.\n",
        "\n",
        "In [this example](https://altair-viz.github.io/getting_started/starting.html#data-transformation-aggregation), we see the x axis being set to a feature called `a`, and the y axis set to the `average()` of a feature called `b`.\n",
        "\n",
        "In our case, we want the x axis to be set to `rating` and the y axis to be the `count()` of `rating`."
      ]
    },
    {
      "cell_type": "code",
      "execution_count": null,
      "metadata": {
        "id": "lixpX9B-EEQS",
        "vscode": {
          "languageId": "python"
        }
      },
      "outputs": [],
      "source": [
        "# Use Altair to create a bar chart comparing the count of each movie rating\n"
      ]
    },
    {
      "cell_type": "markdown",
      "metadata": {
        "id": "z4Uz_X1QDivG"
      },
      "source": [
        "\n",
        "### Seaborn\n",
        "While Altair uses a \"declarative\" syntax for building charts piece by piece, the Seaborn library provides a large variety of pre-made charts for common statistical needs.\n",
        "\n",
        "These charts are divided into different categories. Each category has a high-level interface you can use for simplicity, and then a specific function for each chart that you can use if you need more control over how the chart looks.\n",
        "\n",
        "Seaborn uses matplotlib for its drawing, and the chart-specific functions each return a matplitlib axes object if you need additional customization.\n",
        "\n",
        "For example, there are several different types of categorical plots in seaborn: bar plots, box plots, point plots, count plots, swarm plots, etc...\n",
        "\n",
        "Each of these plots can be accessed using the `catplot` function.\n",
        "\n",
        "Assume we have a pandas dataframe called `employees`, with three columns: `name`, `job`, `salary`.\n",
        "\n",
        "    # Make a box plot style categorical plot showing the distribution of salaries for each job:\n",
        "    sns.catplot(data=employees, x='job', y='salary', kind='box')\n",
        "\n",
        "    # Make a swarm plot style categorical plot\n",
        "    sns.catplot(data=employees, x='job', y='salary', kind='swarm')\n",
        "\n",
        "Alternatively, you can use the plot specific functions to give yourself more control over the output by using matplotlib functions:\n",
        "\n",
        "    # Make a box plot style categorical plot, and customize the results\n",
        "    import matplotlib.pyplot as plt\n",
        "\n",
        "    plt.figure(figsize=(12, 9))\n",
        "    ax = sns.boxplot(data=employees, x='job', y='salary')\n",
        "    ax.set_title(\"Salaries by Job Title\")\n",
        "    ax.set_ylabel(\"Annual salary in thousands of $USD\")\n",
        "    ax.set_xlabel(\"Job title\")\n",
        "    "
      ]
    },
    {
      "cell_type": "markdown",
      "metadata": {
        "id": "fW3CV6KTIcxb"
      },
      "source": [
        "Like with Pandas, there is a [conventional way to import Seaborn](https://seaborn.pydata.org/tutorial/relational.html) into your projects.\n",
        "\n",
        "Optionally, you may wish to set some default chart aesthetics by [setting the chart style](https://seaborn.pydata.org/tutorial/aesthetics.html)."
      ]
    },
    {
      "cell_type": "code",
      "execution_count": null,
      "metadata": {
        "id": "6UZKj1yMXTYg",
        "vscode": {
          "languageId": "python"
        }
      },
      "outputs": [],
      "source": [
        "# Import the seaborn library the conventional way. Then optionally configure\n",
        "# the default chart style.\n"
      ]
    },
    {
      "cell_type": "markdown",
      "metadata": {
        "id": "AWlh7ipsXaYM"
      },
      "source": [
        "Since the `rating` column uses categorical data, we need to use Seaborn's [categorical visualizations](https://seaborn.pydata.org/tutorial/categorical.html).\n",
        "\n",
        "In particular, we want a \"count plot\" that will display a count of movie ratings.\n",
        "\n"
      ]
    },
    {
      "cell_type": "code",
      "execution_count": null,
      "metadata": {
        "id": "-T6xRLvAYJIf",
        "vscode": {
          "languageId": "python"
        }
      },
      "outputs": [],
      "source": [
        "# Use seaborn to create a count plot comparing the count of each movie rating\n"
      ]
    },
    {
      "cell_type": "markdown",
      "metadata": {
        "id": "HWUrbz38L_1X"
      },
      "source": [
        "### Pandas built-in plotting\n",
        "In addition to libraries like Altair and Seaborn, Pandas has some [built in charting functionality](https://pandas.pydata.org/docs/getting_started/intro_tutorials/04_plotting.html).\n",
        "\n",
        "While not as sophisticated as some of the other options, it is often good enough for quick visualizations.\n",
        "\n",
        "Just like with seaborn's plotting functions, the pandas plotting functions return matplotlib axes objects, which can be further customized.\n",
        "\n",
        "Assume we have a pandas dataframe called `employees`, with three columns: `name`, `job`, `salary`.\n",
        "\n",
        "    # Make a box plot style categorical plot showing the distribution of salaries for each job:\n",
        "    employees[ ['job','salary'] ].plot.box()\n",
        "\n",
        "    # Make a box plot style categorical plot, and customize the results\n",
        "    import matplotlib.pyplot as plt\n",
        "\n",
        "    plt.figure(figsize=(12, 9))\n",
        "    ax = employees[ ['job','salary'] ].plot().box()\n",
        "    ax.set_title(\"Salaries by Job Title\")\n",
        "    ax.set_ylabel(\"Annual salary in thousands of $USD\")\n",
        "    ax.set_xlabel(\"Job title\")\n"
      ]
    },
    {
      "cell_type": "code",
      "execution_count": null,
      "metadata": {
        "id": "Y0PW4s0LNjld",
        "vscode": {
          "languageId": "python"
        }
      },
      "outputs": [],
      "source": [
        "# Use pandas' built in plotting functions to create a count plot comparing the count of each movie rating\n",
        "# This will be a little trickier than the other libraries, but one hint is that the pandas value_counts() function\n",
        "# actually returns a dataframe.\n"
      ]
    },
    {
      "cell_type": "markdown",
      "metadata": {
        "id": "7EA2lAfbYRAc"
      },
      "source": [
        "# Part 5: Interpretation and Conclusions\n",
        "\n",
        "Now that you've seen the data, what is your conclusion? Is the watchdog group\n",
        "correct that Netflix has more movies for adults than for children? Are there any\n",
        "caveats you'd include in your analysis?"
      ]
    },
    {
      "cell_type": "markdown",
      "metadata": {
        "id": "EMBvHrExYr24"
      },
      "source": [
        "Write your summary here:\n",
        "\n",
        "\n"
      ]
    },
    {
      "cell_type": "markdown",
      "metadata": {
        "id": "3tOuwFOZYvVP"
      },
      "source": [
        "## 🌟 Above and Beyond 🌟\n",
        "\n",
        "After reviewing your findings, the watchdog group would like some additional questions answered:\n",
        "\n",
        "1. How are things affected if you include the \"made for TV movies\" that have been assigned [TV ratings](https://en.wikipedia.org/wiki/Television_content_rating_system#United_States) in your analysis, but still exclude unrated movies?\n",
        "\n",
        "2. They would also like to see a separate report that includes only TV shows.\n",
        "\n",
        "3. For an upcoming community meeting, the group would like to present a simple\n",
        "chart showing \"For Kids\" and \"For Adults\" categories. The easiest way to accomplish this would be to [create a new column in your data frame that maps](https://pandas.pydata.org/docs/getting_started/intro_tutorials/10_text_data.html) each rating to the appropriate \"For Kids\" or \"For Adults\" label, then create a new visualization based on that column."
      ]
    }
  ],
  "metadata": {
    "colab": {
      "name": "Exploration-01.ipynb",
      "provenance": [],
      "toc_visible": true,
      "include_colab_link": true
    },
    "kernelspec": {
      "display_name": "Python 3",
      "name": "python3"
    }
  },
  "nbformat": 4,
  "nbformat_minor": 0
}